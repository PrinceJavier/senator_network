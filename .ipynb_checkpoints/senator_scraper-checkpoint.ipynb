{
 "cells": [
  {
   "cell_type": "code",
   "execution_count": 1,
   "metadata": {
    "ExecuteTime": {
     "end_time": "2019-02-05T12:46:41.788750Z",
     "start_time": "2019-02-05T12:46:41.785853Z"
    }
   },
   "outputs": [],
   "source": [
    "# Senator scraper"
   ]
  },
  {
   "cell_type": "code",
   "execution_count": 266,
   "metadata": {
    "ExecuteTime": {
     "end_time": "2019-02-08T16:22:04.835470Z",
     "start_time": "2019-02-08T16:22:04.826506Z"
    }
   },
   "outputs": [],
   "source": [
    "import numpy as np\n",
    "import pandas as pd\n",
    "import matplotlib.pyplot as plt\n",
    "\n",
    "from bs4 import BeautifulSoup\n",
    "import urllib.request\n",
    "import re\n",
    "import time\n",
    "from datetime import datetime\n",
    "\n",
    "from selenium import webdriver\n",
    "from selenium.webdriver.common.keys import Keys\n",
    "\n",
    "import os"
   ]
  },
  {
   "cell_type": "code",
   "execution_count": 219,
   "metadata": {
    "ExecuteTime": {
     "end_time": "2019-02-05T14:19:37.460864Z",
     "start_time": "2019-02-05T14:11:53.658522Z"
    }
   },
   "outputs": [],
   "source": [
    "data_0 = []\n",
    "\n",
    "# pages 1 to 276\n",
    "for i in range(1, 277):\n",
    "    url = f\"http://www.senate.gov.ph/lis/leg_sys.aspx?congress=17&type=bill&p={i}\"\n",
    "    with urllib.request.urlopen(url) as response:\n",
    "        content = response.read()\n",
    "\n",
    "        soup = BeautifulSoup(content, \"lxml\")\n",
    "\n",
    "    #     print(soup.prettify())\n",
    "        content = soup.find(\"div\", {\"class\": \"alight\"}).findAll(\"a\")\n",
    "        data_0.append(content)\n",
    "\n",
    "    time.sleep(1)"
   ]
  },
  {
   "cell_type": "code",
   "execution_count": 220,
   "metadata": {
    "ExecuteTime": {
     "end_time": "2019-02-05T14:19:37.469771Z",
     "start_time": "2019-02-05T14:19:37.464114Z"
    },
    "scrolled": true
   },
   "outputs": [],
   "source": [
    "# flatten list\n",
    "data = [item for sublist in data_0 for item in sublist]"
   ]
  },
  {
   "cell_type": "code",
   "execution_count": 107,
   "metadata": {
    "ExecuteTime": {
     "end_time": "2019-02-05T13:35:35.588278Z",
     "start_time": "2019-02-05T13:35:35.579614Z"
    }
   },
   "outputs": [
    {
     "data": {
      "text/plain": [
       "'2019-02-04 00:00:00'"
      ]
     },
     "execution_count": 107,
     "metadata": {},
     "output_type": "execute_result"
    }
   ],
   "source": [
    "def get_date(string):\n",
    "    # get the date\n",
    "    pattern = re.compile(\"(?<=filed on ).*?(?= by)\")\n",
    "    text_lower = string.lower()\n",
    "    date = re.search(pattern, text_lower)[0]\n",
    "    date = datetime.strptime(date, '%B %d, %Y')\n",
    "    return str(date)\n",
    "\n",
    "\n",
    "get_date(text)"
   ]
  },
  {
   "cell_type": "code",
   "execution_count": 111,
   "metadata": {
    "ExecuteTime": {
     "end_time": "2019-02-05T13:37:20.630870Z",
     "start_time": "2019-02-05T13:37:20.621834Z"
    }
   },
   "outputs": [
    {
     "data": {
      "text/plain": [
       "'an act amending republic act no. 10068 or the organic agriculture act of 2010'"
      ]
     },
     "execution_count": 111,
     "metadata": {},
     "output_type": "execute_result"
    }
   ],
   "source": [
    "def get_description(string):\n",
    "    # get description\n",
    "    pattern = re.compile(\".*?(?= filed on )\")\n",
    "    text_lower = string.lower()\n",
    "    title = re.search(pattern, text_lower)[0]\n",
    "    return str(title)\n",
    "\n",
    "\n",
    "get_description(text)"
   ]
  },
  {
   "cell_type": "code",
   "execution_count": 139,
   "metadata": {
    "ExecuteTime": {
     "end_time": "2019-02-05T13:43:51.682542Z",
     "start_time": "2019-02-05T13:43:51.664885Z"
    }
   },
   "outputs": [
    {
     "data": {
      "text/plain": [
       "'poe, grace l., villar, cynthia a.'"
      ]
     },
     "execution_count": 139,
     "metadata": {},
     "output_type": "execute_result"
    }
   ],
   "source": [
    "def get_proponents(string):\n",
    "    # get description\n",
    "    text_lower = string.lower()\n",
    "    pattern = re.compile(\"(?<= filed on ).*\")\n",
    "    prop = re.search(pattern, text_lower)[0]\n",
    "    pattern = re.compile(\"(?<=by ).*\")\n",
    "    prop = re.search(pattern, prop)[0]\n",
    "    return str(prop)\n",
    "\n",
    "\n",
    "get_proponents(text)"
   ]
  },
  {
   "cell_type": "code",
   "execution_count": 221,
   "metadata": {
    "ExecuteTime": {
     "end_time": "2019-02-05T14:19:38.699319Z",
     "start_time": "2019-02-05T14:19:37.472794Z"
    }
   },
   "outputs": [],
   "source": [
    "# extract info from data\n",
    "\n",
    "descriptions = []\n",
    "proponents = []\n",
    "dates = []\n",
    "links = []\n",
    "titles = []\n",
    "\n",
    "for i in range(len(data)):\n",
    "    content = str(data[i])\n",
    "    soup = BeautifulSoup(content, 'html.parser')\n",
    "\n",
    "    # get the link\n",
    "    link = \"http://www.senate.gov.ph/lis/\" + str(soup.find(\"a\")[\"href\"])\n",
    "\n",
    "    # get the title and code\n",
    "    title = str(soup.find(\"span\").text)\n",
    "\n",
    "    # get text including description, date filed, and senators\n",
    "    text = soup.text[len(title):]\n",
    "\n",
    "    # date\n",
    "    date = get_date(text)\n",
    "\n",
    "    # description\n",
    "    description = get_description(text)\n",
    "\n",
    "    # proponents\n",
    "    prop = get_proponents(text).split(\".,\")\n",
    "    \n",
    "    links.append(link)\n",
    "    titles.append(title)\n",
    "    dates.append(date)\n",
    "    descriptions.append(description)\n",
    "    proponents.append(prop)"
   ]
  },
  {
   "cell_type": "code",
   "execution_count": 222,
   "metadata": {
    "ExecuteTime": {
     "end_time": "2019-02-05T14:19:38.705711Z",
     "start_time": "2019-02-05T14:19:38.701837Z"
    }
   },
   "outputs": [],
   "source": [
    "dic = {\"dates\":dates, \"titles\":titles, \"descriptions\":descriptions, \"proponents\":proponents, \"links\":links}"
   ]
  },
  {
   "cell_type": "code",
   "execution_count": null,
   "metadata": {
    "ExecuteTime": {
     "end_time": "2019-02-05T14:10:45.758079Z",
     "start_time": "2019-02-05T14:09:52.825Z"
    }
   },
   "outputs": [],
   "source": [
    "# # get more information from links\n",
    "# data_1 = []\n",
    "\n",
    "# for i in range(5, 6):\n",
    "# #     url = links[i]\n",
    "#     url = \"http://www.senate.gov.ph/lis/bill_res.aspx?congress=17&q=SBN-2199\"\n",
    "#     with urllib.request.urlopen(url) as response:\n",
    "#         content = response.read()\n",
    "\n",
    "#         soup = BeautifulSoup(content)\n",
    "\n",
    "#     #     print(soup.prettify())\n",
    "#         content = soup.find(\"td\", {\"id\": \"content\"})\n",
    "#         data_1.append(content)\n",
    "\n",
    "#     time.sleep(1)"
   ]
  },
  {
   "cell_type": "code",
   "execution_count": null,
   "metadata": {
    "ExecuteTime": {
     "end_time": "2019-02-05T14:10:45.759409Z",
     "start_time": "2019-02-05T14:09:54.928Z"
    }
   },
   "outputs": [],
   "source": [
    "# data_1"
   ]
  },
  {
   "cell_type": "code",
   "execution_count": 223,
   "metadata": {
    "ExecuteTime": {
     "end_time": "2019-02-05T14:19:38.728454Z",
     "start_time": "2019-02-05T14:19:38.708578Z"
    }
   },
   "outputs": [
    {
     "data": {
      "text/html": [
       "<div>\n",
       "<style scoped>\n",
       "    .dataframe tbody tr th:only-of-type {\n",
       "        vertical-align: middle;\n",
       "    }\n",
       "\n",
       "    .dataframe tbody tr th {\n",
       "        vertical-align: top;\n",
       "    }\n",
       "\n",
       "    .dataframe thead th {\n",
       "        text-align: right;\n",
       "    }\n",
       "</style>\n",
       "<table border=\"1\" class=\"dataframe\">\n",
       "  <thead>\n",
       "    <tr style=\"text-align: right;\">\n",
       "      <th></th>\n",
       "      <th>dates</th>\n",
       "      <th>titles</th>\n",
       "      <th>descriptions</th>\n",
       "      <th>proponents</th>\n",
       "      <th>links</th>\n",
       "    </tr>\n",
       "  </thead>\n",
       "  <tbody>\n",
       "    <tr>\n",
       "      <th>0</th>\n",
       "      <td>2019-02-04 00:00:00</td>\n",
       "      <td>SBN-2203: Organic Farming and Other Sustainabl...</td>\n",
       "      <td>an act amending republic act no. 10068 or the ...</td>\n",
       "      <td>[poe, grace l,  villar, cynthia a.]</td>\n",
       "      <td>http://www.senate.gov.ph/lis/bill_res.aspx?con...</td>\n",
       "    </tr>\n",
       "    <tr>\n",
       "      <th>1</th>\n",
       "      <td>2019-01-31 00:00:00</td>\n",
       "      <td>SBN-2200: Emergency Volunteer Protection Act o...</td>\n",
       "      <td>an act encouraging volunteerism during emergen...</td>\n",
       "      <td>[ejercito, joseph victor g,  gordon, richard j...</td>\n",
       "      <td>http://www.senate.gov.ph/lis/bill_res.aspx?con...</td>\n",
       "    </tr>\n",
       "    <tr>\n",
       "      <th>2</th>\n",
       "      <td>2019-01-31 00:00:00</td>\n",
       "      <td>SBN-2199: Social Welfare and Development Agenc...</td>\n",
       "      <td>an act strengthening the regulation of social ...</td>\n",
       "      <td>[de lima, leila m.]</td>\n",
       "      <td>http://www.senate.gov.ph/lis/bill_res.aspx?con...</td>\n",
       "    </tr>\n",
       "    <tr>\n",
       "      <th>3</th>\n",
       "      <td>2019-01-30 00:00:00</td>\n",
       "      <td>SBN-2198: Youth Social Welfare Programs/Reform...</td>\n",
       "      <td></td>\n",
       "      <td>[sotto iii, vicente c,  drilon, franklin m,  d...</td>\n",
       "      <td>http://www.senate.gov.ph/lis/bill_res.aspx?con...</td>\n",
       "    </tr>\n",
       "    <tr>\n",
       "      <th>4</th>\n",
       "      <td>2019-01-30 00:00:00</td>\n",
       "      <td>SBN-2197: Amending Sections 141, 142 and 143  ...</td>\n",
       "      <td>an act amending sections 141, 142 and 143 of r...</td>\n",
       "      <td>[pacquiao, emmanuel \"manny\" d.]</td>\n",
       "      <td>http://www.senate.gov.ph/lis/bill_res.aspx?con...</td>\n",
       "    </tr>\n",
       "  </tbody>\n",
       "</table>\n",
       "</div>"
      ],
      "text/plain": [
       "                 dates                                             titles  \\\n",
       "0  2019-02-04 00:00:00  SBN-2203: Organic Farming and Other Sustainabl...   \n",
       "1  2019-01-31 00:00:00  SBN-2200: Emergency Volunteer Protection Act o...   \n",
       "2  2019-01-31 00:00:00  SBN-2199: Social Welfare and Development Agenc...   \n",
       "3  2019-01-30 00:00:00  SBN-2198: Youth Social Welfare Programs/Reform...   \n",
       "4  2019-01-30 00:00:00  SBN-2197: Amending Sections 141, 142 and 143  ...   \n",
       "\n",
       "                                        descriptions  \\\n",
       "0  an act amending republic act no. 10068 or the ...   \n",
       "1  an act encouraging volunteerism during emergen...   \n",
       "2  an act strengthening the regulation of social ...   \n",
       "3                                                      \n",
       "4  an act amending sections 141, 142 and 143 of r...   \n",
       "\n",
       "                                          proponents  \\\n",
       "0                [poe, grace l,  villar, cynthia a.]   \n",
       "1  [ejercito, joseph victor g,  gordon, richard j...   \n",
       "2                                [de lima, leila m.]   \n",
       "3  [sotto iii, vicente c,  drilon, franklin m,  d...   \n",
       "4                    [pacquiao, emmanuel \"manny\" d.]   \n",
       "\n",
       "                                               links  \n",
       "0  http://www.senate.gov.ph/lis/bill_res.aspx?con...  \n",
       "1  http://www.senate.gov.ph/lis/bill_res.aspx?con...  \n",
       "2  http://www.senate.gov.ph/lis/bill_res.aspx?con...  \n",
       "3  http://www.senate.gov.ph/lis/bill_res.aspx?con...  \n",
       "4  http://www.senate.gov.ph/lis/bill_res.aspx?con...  "
      ]
     },
     "execution_count": 223,
     "metadata": {},
     "output_type": "execute_result"
    }
   ],
   "source": [
    "df = pd.DataFrame.from_dict(dic)\n",
    "df.head()"
   ]
  },
  {
   "cell_type": "code",
   "execution_count": 227,
   "metadata": {
    "ExecuteTime": {
     "end_time": "2019-02-05T14:23:50.090244Z",
     "start_time": "2019-02-05T14:23:49.976623Z"
    }
   },
   "outputs": [],
   "source": [
    "# save dataframe\n",
    "df.to_csv(\"bills_links.csv\")"
   ]
  },
  {
   "cell_type": "code",
   "execution_count": 229,
   "metadata": {
    "ExecuteTime": {
     "end_time": "2019-02-05T14:24:07.615783Z",
     "start_time": "2019-02-05T14:24:07.610977Z"
    }
   },
   "outputs": [
    {
     "data": {
      "text/plain": [
       "array([list(['poe, grace l', ' villar, cynthia a.']),\n",
       "       list(['ejercito, joseph victor g', ' gordon, richard j', ' de lima, leila m.']),\n",
       "       list(['de lima, leila m.']), ..., list(['sotto iii, vicente c.']),\n",
       "       list(['sotto iii, vicente c.']), list(['sotto iii, vicente c.'])],\n",
       "      dtype=object)"
      ]
     },
     "execution_count": 229,
     "metadata": {},
     "output_type": "execute_result"
    }
   ],
   "source": [
    "df.proponents.values"
   ]
  },
  {
   "cell_type": "code",
   "execution_count": 2,
   "metadata": {
    "ExecuteTime": {
     "end_time": "2019-02-08T14:55:13.592435Z",
     "start_time": "2019-02-08T14:55:13.255461Z"
    }
   },
   "outputs": [
    {
     "data": {
      "text/html": [
       "<div>\n",
       "<style scoped>\n",
       "    .dataframe tbody tr th:only-of-type {\n",
       "        vertical-align: middle;\n",
       "    }\n",
       "\n",
       "    .dataframe tbody tr th {\n",
       "        vertical-align: top;\n",
       "    }\n",
       "\n",
       "    .dataframe thead th {\n",
       "        text-align: right;\n",
       "    }\n",
       "</style>\n",
       "<table border=\"1\" class=\"dataframe\">\n",
       "  <thead>\n",
       "    <tr style=\"text-align: right;\">\n",
       "      <th></th>\n",
       "      <th>Unnamed: 0</th>\n",
       "      <th>dates</th>\n",
       "      <th>titles</th>\n",
       "      <th>descriptions</th>\n",
       "      <th>proponents</th>\n",
       "      <th>links</th>\n",
       "    </tr>\n",
       "  </thead>\n",
       "  <tbody>\n",
       "    <tr>\n",
       "      <th>0</th>\n",
       "      <td>0</td>\n",
       "      <td>2019-02-04 00:00:00</td>\n",
       "      <td>SBN-2203: Organic Farming and Other Sustainabl...</td>\n",
       "      <td>an act amending republic act no. 10068 or the ...</td>\n",
       "      <td>['poe, grace l', ' villar, cynthia a.']</td>\n",
       "      <td>http://www.senate.gov.ph/lis/bill_res.aspx?con...</td>\n",
       "    </tr>\n",
       "    <tr>\n",
       "      <th>1</th>\n",
       "      <td>1</td>\n",
       "      <td>2019-01-31 00:00:00</td>\n",
       "      <td>SBN-2200: Emergency Volunteer Protection Act o...</td>\n",
       "      <td>an act encouraging volunteerism during emergen...</td>\n",
       "      <td>['ejercito, joseph victor g', ' gordon, richar...</td>\n",
       "      <td>http://www.senate.gov.ph/lis/bill_res.aspx?con...</td>\n",
       "    </tr>\n",
       "    <tr>\n",
       "      <th>2</th>\n",
       "      <td>2</td>\n",
       "      <td>2019-01-31 00:00:00</td>\n",
       "      <td>SBN-2199: Social Welfare and Development Agenc...</td>\n",
       "      <td>an act strengthening the regulation of social ...</td>\n",
       "      <td>['de lima, leila m.']</td>\n",
       "      <td>http://www.senate.gov.ph/lis/bill_res.aspx?con...</td>\n",
       "    </tr>\n",
       "    <tr>\n",
       "      <th>3</th>\n",
       "      <td>3</td>\n",
       "      <td>2019-01-30 00:00:00</td>\n",
       "      <td>SBN-2198: Youth Social Welfare Programs/Reform...</td>\n",
       "      <td>NaN</td>\n",
       "      <td>['sotto iii, vicente c', ' drilon, franklin m'...</td>\n",
       "      <td>http://www.senate.gov.ph/lis/bill_res.aspx?con...</td>\n",
       "    </tr>\n",
       "    <tr>\n",
       "      <th>4</th>\n",
       "      <td>4</td>\n",
       "      <td>2019-01-30 00:00:00</td>\n",
       "      <td>SBN-2197: Amending Sections 141, 142 and 143  ...</td>\n",
       "      <td>an act amending sections 141, 142 and 143 of r...</td>\n",
       "      <td>['pacquiao, emmanuel \"manny\" d.']</td>\n",
       "      <td>http://www.senate.gov.ph/lis/bill_res.aspx?con...</td>\n",
       "    </tr>\n",
       "  </tbody>\n",
       "</table>\n",
       "</div>"
      ],
      "text/plain": [
       "   Unnamed: 0                dates  \\\n",
       "0           0  2019-02-04 00:00:00   \n",
       "1           1  2019-01-31 00:00:00   \n",
       "2           2  2019-01-31 00:00:00   \n",
       "3           3  2019-01-30 00:00:00   \n",
       "4           4  2019-01-30 00:00:00   \n",
       "\n",
       "                                              titles  \\\n",
       "0  SBN-2203: Organic Farming and Other Sustainabl...   \n",
       "1  SBN-2200: Emergency Volunteer Protection Act o...   \n",
       "2  SBN-2199: Social Welfare and Development Agenc...   \n",
       "3  SBN-2198: Youth Social Welfare Programs/Reform...   \n",
       "4  SBN-2197: Amending Sections 141, 142 and 143  ...   \n",
       "\n",
       "                                        descriptions  \\\n",
       "0  an act amending republic act no. 10068 or the ...   \n",
       "1  an act encouraging volunteerism during emergen...   \n",
       "2  an act strengthening the regulation of social ...   \n",
       "3                                                NaN   \n",
       "4  an act amending sections 141, 142 and 143 of r...   \n",
       "\n",
       "                                          proponents  \\\n",
       "0            ['poe, grace l', ' villar, cynthia a.']   \n",
       "1  ['ejercito, joseph victor g', ' gordon, richar...   \n",
       "2                              ['de lima, leila m.']   \n",
       "3  ['sotto iii, vicente c', ' drilon, franklin m'...   \n",
       "4                  ['pacquiao, emmanuel \"manny\" d.']   \n",
       "\n",
       "                                               links  \n",
       "0  http://www.senate.gov.ph/lis/bill_res.aspx?con...  \n",
       "1  http://www.senate.gov.ph/lis/bill_res.aspx?con...  \n",
       "2  http://www.senate.gov.ph/lis/bill_res.aspx?con...  \n",
       "3  http://www.senate.gov.ph/lis/bill_res.aspx?con...  \n",
       "4  http://www.senate.gov.ph/lis/bill_res.aspx?con...  "
      ]
     },
     "execution_count": 2,
     "metadata": {},
     "output_type": "execute_result"
    }
   ],
   "source": [
    "# read bills_links.csv\n",
    "df = pd.read_csv(\"bills_links.csv\")\n",
    "df.head()"
   ]
  },
  {
   "cell_type": "markdown",
   "metadata": {},
   "source": [
    "### get more information"
   ]
  },
  {
   "cell_type": "code",
   "execution_count": 249,
   "metadata": {
    "ExecuteTime": {
     "end_time": "2019-02-08T16:08:24.730148Z",
     "start_time": "2019-02-08T16:08:24.723739Z"
    }
   },
   "outputs": [
    {
     "data": {
      "text/plain": [
       "2201"
      ]
     },
     "execution_count": 249,
     "metadata": {},
     "output_type": "execute_result"
    }
   ],
   "source": [
    "links = df.links.values\n",
    "len_links = len(links)\n",
    "len_links"
   ]
  },
  {
   "cell_type": "code",
   "execution_count": 285,
   "metadata": {
    "ExecuteTime": {
     "end_time": "2019-02-08T18:55:22.122659Z",
     "start_time": "2019-02-08T16:28:03.109444Z"
    }
   },
   "outputs": [],
   "source": [
    "# getting more details from each link\n",
    "#launch url\n",
    "\n",
    "senate_bill_nos = []\n",
    "dates = []\n",
    "authors = []\n",
    "short_titles = []\n",
    "long_titles = []\n",
    "scopes = []\n",
    "statuses = []\n",
    "subjects = []\n",
    "com_1s = []\n",
    "com_2s = []\n",
    "\n",
    "range_ = len_links\n",
    "\n",
    "for i in range(range_):\n",
    "    url = links[i]\n",
    "\n",
    "    # create a new Firefox session\n",
    "    driver = webdriver.Chrome(\"/Users/fernandojavier/Desktop/MSDS/Portfolio/Senators Network of Bills/chromedriver\")\n",
    "    driver.implicitly_wait(1)\n",
    "    driver.get(url)\n",
    "\n",
    "    python_button = driver.find_element_by_id('lbAll') \n",
    "    python_button.click() \n",
    "\n",
    "    #Selenium hands the page source to Beautiful Soup\n",
    "    soup=BeautifulSoup(driver.page_source, 'lxml')\n",
    "\n",
    "    # get senate bill number\n",
    "    pattern = re.compile(\"(?<=senate bill no.) [\\d]+\")\n",
    "    text = soup.text.lower()\n",
    "    senate_bill_no = int(re.search(pattern, text)[0])\n",
    "    senate_bill_nos.append(senate_bill_no)\n",
    "    \n",
    "    # get date filed\n",
    "    pattern = re.compile(\"(?<=filed on ).*(?= by)\")\n",
    "    text = soup.text.lower()\n",
    "    date = re.search(pattern, text)[0]\n",
    "    dates.append(date)\n",
    "    \n",
    "    # get author\n",
    "    pattern = re.compile(\"(?<=by ).*(?=\\n)\")\n",
    "    text = soup.text.lower()\n",
    "    author = re.search(pattern, text)[0].split(\".,\")\n",
    "    authors.append(author)\n",
    "\n",
    "    # get short title\n",
    "    short_title = soup.find(\"div\", {\"class\": \"lis_doctitle\"}).text.lower()\n",
    "    short_titles.append(short_title)\n",
    "\n",
    "    # get long title\n",
    "    pattern = re.compile(\"(?<=long title).*(?=\\n)\")\n",
    "    text = soup.text.lower()\n",
    "    long_title = re.search(pattern, text)[0]\n",
    "    long_titles.append(long_title)\n",
    "\n",
    "    # get scope\n",
    "    text = soup.text.lower()\n",
    "    if \"scope\" in text:\n",
    "        try:\n",
    "            scope = str(soup.find_all(\"blockquote\")[1]).replace(\n",
    "                \"<blockquote>\", \"\").replace(\"</blockquote>\", \"\")\n",
    "        except:\n",
    "            scope = np.nan\n",
    "    else:\n",
    "        scope = np.nan\n",
    "    scopes.append(scope)\n",
    "\n",
    "    # get legislative status\n",
    "    pattern = re.compile(\"(?<=legislative status).*(?=\\n)\")\n",
    "    text = soup.text.lower()\n",
    "    status = re.search(pattern, text)[0]\n",
    "    statuses.append(status)\n",
    "\n",
    "    # get subject(s)\n",
    "    text = soup.text.lower()\n",
    "    if \"subject(s)\" in text:\n",
    "        try:\n",
    "            subject = str(soup.find_all(\"blockquote\")[3]).replace(\n",
    "                \"<blockquote>\", \"\").replace(\"</blockquote>\", \"\").split(\"<br/>\")\n",
    "        except:\n",
    "            subject = np.nan\n",
    "    else:\n",
    "        subject = np.nan\n",
    "    subjects.append(subject)\n",
    "\n",
    "    # get primary committee\n",
    "    text = soup.text.lower()\n",
    "    if \"primary committee\" in text:\n",
    "        try:\n",
    "            com_1 = str(soup.find_all(\"blockquote\")[4]).replace(\n",
    "                \"<blockquote>\", \"\").replace(\"</blockquote>\", \"\").split(\"<br/>\")\n",
    "        except:\n",
    "            com_1 = np.nan\n",
    "    else:\n",
    "        com_1 = np.nan\n",
    "    com_1s.append(com_1)\n",
    "\n",
    "    # get secondary committee\n",
    "    text = soup.text.lower()\n",
    "    if \"secondary committee\" in text:\n",
    "        try:\n",
    "            com_2 = str(soup.find_all(\"blockquote\")[5]).replace(\n",
    "                \"<blockquote>\", \"\").replace(\"</blockquote>\", \"\").split(\"<br/>\")\n",
    "        except:\n",
    "            com_2 = np.nan\n",
    "    else:\n",
    "        com_2 = np.nan\n",
    "    com_2s.append(com_2)\n",
    "    com_2\n",
    "    \n",
    "    # save to pandas\n",
    "    dic = {\n",
    "    \"date\": [date],\n",
    "    \"proponent\": [author],\n",
    "    \"senate_bill_no\": [senate_bill_no],\n",
    "    \"short_title\": [short_title],\n",
    "    \"long_title\": [long_title],\n",
    "    \"scope\": [scope],\n",
    "    \"status\": [status],\n",
    "    \"subject\": [subject],\n",
    "    \"primary_committee\": [com_1],\n",
    "    \"secondary_committee\": [com_2],\n",
    "    \"links\":[url]}\n",
    "    \n",
    "    df_ = pd.DataFrame.from_dict(dic)\n",
    "    \n",
    "    # check if file exists already if yes, no need to add header\n",
    "    if os.path.isfile(\"bills_data.csv\"):\n",
    "        with open('bills_data.csv', 'a') as f:\n",
    "            df_.to_csv(f, header=False, index=False)\n",
    "    else:\n",
    "        df_.to_csv('bills_data.csv', header=True, index=False)\n",
    "    \n",
    "    "
   ]
  },
  {
   "cell_type": "code",
   "execution_count": 271,
   "metadata": {
    "ExecuteTime": {
     "end_time": "2019-02-08T16:24:03.919727Z",
     "start_time": "2019-02-08T16:24:03.912518Z"
    }
   },
   "outputs": [],
   "source": [
    "pd.DataFrame.from_dict(dic).to_csv(\"test\", index=False)"
   ]
  },
  {
   "cell_type": "code",
   "execution_count": 272,
   "metadata": {
    "ExecuteTime": {
     "end_time": "2019-02-08T16:24:04.150887Z",
     "start_time": "2019-02-08T16:24:04.127251Z"
    }
   },
   "outputs": [
    {
     "data": {
      "text/html": [
       "<div>\n",
       "<style scoped>\n",
       "    .dataframe tbody tr th:only-of-type {\n",
       "        vertical-align: middle;\n",
       "    }\n",
       "\n",
       "    .dataframe tbody tr th {\n",
       "        vertical-align: top;\n",
       "    }\n",
       "\n",
       "    .dataframe thead th {\n",
       "        text-align: right;\n",
       "    }\n",
       "</style>\n",
       "<table border=\"1\" class=\"dataframe\">\n",
       "  <thead>\n",
       "    <tr style=\"text-align: right;\">\n",
       "      <th></th>\n",
       "      <th>date</th>\n",
       "      <th>proponent</th>\n",
       "      <th>senate_bill_no</th>\n",
       "      <th>short_title</th>\n",
       "      <th>long_title</th>\n",
       "      <th>scope</th>\n",
       "      <th>status</th>\n",
       "      <th>subject</th>\n",
       "      <th>primary_committee</th>\n",
       "      <th>secondary_committee</th>\n",
       "      <th>links</th>\n",
       "    </tr>\n",
       "  </thead>\n",
       "  <tbody>\n",
       "    <tr>\n",
       "      <th>0</th>\n",
       "      <td>february 4, 2019</td>\n",
       "      <td>['poe, grace l', ' villar, cynthia a.']</td>\n",
       "      <td>2203</td>\n",
       "      <td>organic farming and other sustainable agriculture</td>\n",
       "      <td>an act amending republic act no. 10068 or the ...</td>\n",
       "      <td>National</td>\n",
       "      <td>pending second reading, special order (2/6/2019)</td>\n",
       "      <td>['Organic Agriculture/Organic Farming']</td>\n",
       "      <td>['Agriculture and Food']</td>\n",
       "      <td>NaN</td>\n",
       "      <td>http://www.senate.gov.ph/lis/bill_res.aspx?con...</td>\n",
       "    </tr>\n",
       "    <tr>\n",
       "      <th>1</th>\n",
       "      <td>january 31, 2019</td>\n",
       "      <td>['ejercito, joseph victor g', ' gordon, richar...</td>\n",
       "      <td>2200</td>\n",
       "      <td>emergency volunteer protection act of 2019</td>\n",
       "      <td>an act encouraging volunteerism during emergen...</td>\n",
       "      <td>National</td>\n",
       "      <td>pending second reading, ordinary business (2/4...</td>\n",
       "      <td>['Volunteers']</td>\n",
       "      <td>['Social Justice, Welfare and Rural Development']</td>\n",
       "      <td>['Justice and Human Rights', 'Local Government...</td>\n",
       "      <td>http://www.senate.gov.ph/lis/bill_res.aspx?con...</td>\n",
       "    </tr>\n",
       "    <tr>\n",
       "      <th>2</th>\n",
       "      <td>january 31, 2019</td>\n",
       "      <td>['de lima, leila m.']</td>\n",
       "      <td>2199</td>\n",
       "      <td>social welfare and development agencies act</td>\n",
       "      <td>an act strengthening the regulation of social ...</td>\n",
       "      <td>National</td>\n",
       "      <td>pending second reading, ordinary business (2/4...</td>\n",
       "      <td>['Social Welfare and Development (SWD)']</td>\n",
       "      <td>['Social Justice, Welfare and Rural Development']</td>\n",
       "      <td>['Civil Service, Government Reorganization and...</td>\n",
       "      <td>http://www.senate.gov.ph/lis/bill_res.aspx?con...</td>\n",
       "    </tr>\n",
       "    <tr>\n",
       "      <th>3</th>\n",
       "      <td>january 30, 2019</td>\n",
       "      <td>['sotto iii, vicente c', ' drilon, franklin m'...</td>\n",
       "      <td>2198</td>\n",
       "      <td>youth social welfare programs/reformation of c...</td>\n",
       "      <td>an act strengthening the youth social welfare ...</td>\n",
       "      <td>National</td>\n",
       "      <td>pending second reading, special order (2/4/2019)</td>\n",
       "      <td>['Juvenile Justice and Welfare Act (R.A.No. 93...</td>\n",
       "      <td>['Justice and Human Rights']</td>\n",
       "      <td>['Women, Children, Family Relations and Gender...</td>\n",
       "      <td>http://www.senate.gov.ph/lis/bill_res.aspx?con...</td>\n",
       "    </tr>\n",
       "    <tr>\n",
       "      <th>4</th>\n",
       "      <td>january 30, 2019</td>\n",
       "      <td>['pacquiao, emmanuel \"manny\" d.']</td>\n",
       "      <td>2197</td>\n",
       "      <td>amending sections 141, 142 and 143  (sin tax, ...</td>\n",
       "      <td>an act amending sections 141, 142 and 143 of r...</td>\n",
       "      <td>National</td>\n",
       "      <td>pending in the committee (1/30/2019)</td>\n",
       "      <td>['National Internal Revenue Code (NIRC)', 'Tax...</td>\n",
       "      <td>['Ways and Means']</td>\n",
       "      <td>NaN</td>\n",
       "      <td>http://www.senate.gov.ph/lis/bill_res.aspx?con...</td>\n",
       "    </tr>\n",
       "    <tr>\n",
       "      <th>5</th>\n",
       "      <td>january 30, 2019</td>\n",
       "      <td>['sotto iii, vicente c.']</td>\n",
       "      <td>2196</td>\n",
       "      <td>fire code of the philippines of 2018</td>\n",
       "      <td>an act amending certain provisions of republic...</td>\n",
       "      <td>National</td>\n",
       "      <td>pending in the committee (1/30/2019)</td>\n",
       "      <td>['Fire Code of the Philippines']</td>\n",
       "      <td>['Public Order and Dangerous Drugs']</td>\n",
       "      <td>['Local Government']</td>\n",
       "      <td>http://www.senate.gov.ph/lis/bill_res.aspx?con...</td>\n",
       "    </tr>\n",
       "    <tr>\n",
       "      <th>6</th>\n",
       "      <td>january 30, 2019</td>\n",
       "      <td>['trillanes, antonio \"sonny\" f', ' angara, jua...</td>\n",
       "      <td>2195</td>\n",
       "      <td>community service act</td>\n",
       "      <td>an act authorizing the court to require commun...</td>\n",
       "      <td>National</td>\n",
       "      <td>pending second reading, special order (1/30/2019)</td>\n",
       "      <td>['Community Work/Community Service', 'Revised ...</td>\n",
       "      <td>['Justice and Human Rights']</td>\n",
       "      <td>NaN</td>\n",
       "      <td>http://www.senate.gov.ph/lis/bill_res.aspx?con...</td>\n",
       "    </tr>\n",
       "    <tr>\n",
       "      <th>7</th>\n",
       "      <td>january 30, 2019</td>\n",
       "      <td>['de lima, leila m.']</td>\n",
       "      <td>2194</td>\n",
       "      <td>protecting consumers and users against forced ...</td>\n",
       "      <td>an act protecting consumers and users against ...</td>\n",
       "      <td>National</td>\n",
       "      <td>pending in the committee (1/30/2019)</td>\n",
       "      <td>['E-Billing', 'Consumer Protection', 'Consumer...</td>\n",
       "      <td>['Trade, Commerce and Entrepreneurship']</td>\n",
       "      <td>NaN</td>\n",
       "      <td>http://www.senate.gov.ph/lis/bill_res.aspx?con...</td>\n",
       "    </tr>\n",
       "    <tr>\n",
       "      <th>8</th>\n",
       "      <td>january 29, 2019</td>\n",
       "      <td>['pimentel, aquilino koko iii l.']</td>\n",
       "      <td>2193</td>\n",
       "      <td>exempting drugs and medicines prescribed for m...</td>\n",
       "      <td>an act exempting drugs and medicines prescribe...</td>\n",
       "      <td>National</td>\n",
       "      <td>pending in the committee (1/30/2019)</td>\n",
       "      <td>['Medicines/Drugs', 'Mental Health', 'Taxes (V...</td>\n",
       "      <td>['Ways and Means']</td>\n",
       "      <td>NaN</td>\n",
       "      <td>http://www.senate.gov.ph/lis/bill_res.aspx?con...</td>\n",
       "    </tr>\n",
       "    <tr>\n",
       "      <th>9</th>\n",
       "      <td>january 29, 2019</td>\n",
       "      <td>['pimentel, aquilino koko iii l.']</td>\n",
       "      <td>2192</td>\n",
       "      <td>protecting children from travelling sex offenders</td>\n",
       "      <td>an act protecting children from travelling sex...</td>\n",
       "      <td>National</td>\n",
       "      <td>pending in the committee (1/30/2019)</td>\n",
       "      <td>['Children/Child Care', 'Sex Offenders']</td>\n",
       "      <td>['Women, Children, Family Relations and Gender...</td>\n",
       "      <td>['Justice and Human Rights', 'Finance']</td>\n",
       "      <td>http://www.senate.gov.ph/lis/bill_res.aspx?con...</td>\n",
       "    </tr>\n",
       "  </tbody>\n",
       "</table>\n",
       "</div>"
      ],
      "text/plain": [
       "               date                                          proponent  \\\n",
       "0  february 4, 2019            ['poe, grace l', ' villar, cynthia a.']   \n",
       "1  january 31, 2019  ['ejercito, joseph victor g', ' gordon, richar...   \n",
       "2  january 31, 2019                              ['de lima, leila m.']   \n",
       "3  january 30, 2019  ['sotto iii, vicente c', ' drilon, franklin m'...   \n",
       "4  january 30, 2019                  ['pacquiao, emmanuel \"manny\" d.']   \n",
       "5  january 30, 2019                          ['sotto iii, vicente c.']   \n",
       "6  january 30, 2019  ['trillanes, antonio \"sonny\" f', ' angara, jua...   \n",
       "7  january 30, 2019                              ['de lima, leila m.']   \n",
       "8  january 29, 2019                 ['pimentel, aquilino koko iii l.']   \n",
       "9  january 29, 2019                 ['pimentel, aquilino koko iii l.']   \n",
       "\n",
       "   senate_bill_no                                        short_title  \\\n",
       "0            2203  organic farming and other sustainable agriculture   \n",
       "1            2200         emergency volunteer protection act of 2019   \n",
       "2            2199        social welfare and development agencies act   \n",
       "3            2198  youth social welfare programs/reformation of c...   \n",
       "4            2197  amending sections 141, 142 and 143  (sin tax, ...   \n",
       "5            2196               fire code of the philippines of 2018   \n",
       "6            2195                              community service act   \n",
       "7            2194  protecting consumers and users against forced ...   \n",
       "8            2193  exempting drugs and medicines prescribed for m...   \n",
       "9            2192  protecting children from travelling sex offenders   \n",
       "\n",
       "                                          long_title     scope  \\\n",
       "0  an act amending republic act no. 10068 or the ...  National   \n",
       "1  an act encouraging volunteerism during emergen...  National   \n",
       "2  an act strengthening the regulation of social ...  National   \n",
       "3  an act strengthening the youth social welfare ...  National   \n",
       "4  an act amending sections 141, 142 and 143 of r...  National   \n",
       "5  an act amending certain provisions of republic...  National   \n",
       "6  an act authorizing the court to require commun...  National   \n",
       "7  an act protecting consumers and users against ...  National   \n",
       "8  an act exempting drugs and medicines prescribe...  National   \n",
       "9  an act protecting children from travelling sex...  National   \n",
       "\n",
       "                                              status  \\\n",
       "0   pending second reading, special order (2/6/2019)   \n",
       "1  pending second reading, ordinary business (2/4...   \n",
       "2  pending second reading, ordinary business (2/4...   \n",
       "3   pending second reading, special order (2/4/2019)   \n",
       "4               pending in the committee (1/30/2019)   \n",
       "5               pending in the committee (1/30/2019)   \n",
       "6  pending second reading, special order (1/30/2019)   \n",
       "7               pending in the committee (1/30/2019)   \n",
       "8               pending in the committee (1/30/2019)   \n",
       "9               pending in the committee (1/30/2019)   \n",
       "\n",
       "                                             subject  \\\n",
       "0            ['Organic Agriculture/Organic Farming']   \n",
       "1                                     ['Volunteers']   \n",
       "2           ['Social Welfare and Development (SWD)']   \n",
       "3  ['Juvenile Justice and Welfare Act (R.A.No. 93...   \n",
       "4  ['National Internal Revenue Code (NIRC)', 'Tax...   \n",
       "5                   ['Fire Code of the Philippines']   \n",
       "6  ['Community Work/Community Service', 'Revised ...   \n",
       "7  ['E-Billing', 'Consumer Protection', 'Consumer...   \n",
       "8  ['Medicines/Drugs', 'Mental Health', 'Taxes (V...   \n",
       "9           ['Children/Child Care', 'Sex Offenders']   \n",
       "\n",
       "                                   primary_committee  \\\n",
       "0                           ['Agriculture and Food']   \n",
       "1  ['Social Justice, Welfare and Rural Development']   \n",
       "2  ['Social Justice, Welfare and Rural Development']   \n",
       "3                       ['Justice and Human Rights']   \n",
       "4                                 ['Ways and Means']   \n",
       "5               ['Public Order and Dangerous Drugs']   \n",
       "6                       ['Justice and Human Rights']   \n",
       "7           ['Trade, Commerce and Entrepreneurship']   \n",
       "8                                 ['Ways and Means']   \n",
       "9  ['Women, Children, Family Relations and Gender...   \n",
       "\n",
       "                                 secondary_committee  \\\n",
       "0                                                NaN   \n",
       "1  ['Justice and Human Rights', 'Local Government...   \n",
       "2  ['Civil Service, Government Reorganization and...   \n",
       "3  ['Women, Children, Family Relations and Gender...   \n",
       "4                                                NaN   \n",
       "5                               ['Local Government']   \n",
       "6                                                NaN   \n",
       "7                                                NaN   \n",
       "8                                                NaN   \n",
       "9            ['Justice and Human Rights', 'Finance']   \n",
       "\n",
       "                                               links  \n",
       "0  http://www.senate.gov.ph/lis/bill_res.aspx?con...  \n",
       "1  http://www.senate.gov.ph/lis/bill_res.aspx?con...  \n",
       "2  http://www.senate.gov.ph/lis/bill_res.aspx?con...  \n",
       "3  http://www.senate.gov.ph/lis/bill_res.aspx?con...  \n",
       "4  http://www.senate.gov.ph/lis/bill_res.aspx?con...  \n",
       "5  http://www.senate.gov.ph/lis/bill_res.aspx?con...  \n",
       "6  http://www.senate.gov.ph/lis/bill_res.aspx?con...  \n",
       "7  http://www.senate.gov.ph/lis/bill_res.aspx?con...  \n",
       "8  http://www.senate.gov.ph/lis/bill_res.aspx?con...  \n",
       "9  http://www.senate.gov.ph/lis/bill_res.aspx?con...  "
      ]
     },
     "execution_count": 272,
     "metadata": {},
     "output_type": "execute_result"
    }
   ],
   "source": [
    "pd.read_csv(\"test\")"
   ]
  },
  {
   "cell_type": "code",
   "execution_count": null,
   "metadata": {
    "ExecuteTime": {
     "end_time": "2019-02-08T15:37:57.279406Z",
     "start_time": "2019-02-08T15:37:57.272344Z"
    }
   },
   "outputs": [],
   "source": []
  },
  {
   "cell_type": "code",
   "execution_count": null,
   "metadata": {
    "ExecuteTime": {
     "end_time": "2019-02-08T15:37:59.791671Z",
     "start_time": "2019-02-08T15:37:59.784275Z"
    }
   },
   "outputs": [],
   "source": []
  },
  {
   "cell_type": "code",
   "execution_count": null,
   "metadata": {
    "ExecuteTime": {
     "end_time": "2019-02-08T15:38:01.172033Z",
     "start_time": "2019-02-08T15:38:01.161620Z"
    }
   },
   "outputs": [],
   "source": []
  },
  {
   "cell_type": "code",
   "execution_count": null,
   "metadata": {
    "ExecuteTime": {
     "end_time": "2019-02-08T15:38:04.693725Z",
     "start_time": "2019-02-08T15:38:04.681589Z"
    }
   },
   "outputs": [],
   "source": []
  },
  {
   "cell_type": "code",
   "execution_count": null,
   "metadata": {
    "ExecuteTime": {
     "end_time": "2019-02-08T15:36:52.559694Z",
     "start_time": "2019-02-08T15:36:52.549078Z"
    }
   },
   "outputs": [],
   "source": []
  },
  {
   "cell_type": "code",
   "execution_count": null,
   "metadata": {},
   "outputs": [],
   "source": []
  },
  {
   "cell_type": "code",
   "execution_count": null,
   "metadata": {},
   "outputs": [],
   "source": []
  }
 ],
 "metadata": {
  "hide_input": false,
  "kernelspec": {
   "display_name": "Python [default]",
   "language": "python",
   "name": "python3"
  },
  "language_info": {
   "codemirror_mode": {
    "name": "ipython",
    "version": 3
   },
   "file_extension": ".py",
   "mimetype": "text/x-python",
   "name": "python",
   "nbconvert_exporter": "python",
   "pygments_lexer": "ipython3",
   "version": "3.6.4"
  },
  "latex_envs": {
   "LaTeX_envs_menu_present": true,
   "autoclose": false,
   "autocomplete": true,
   "bibliofile": "biblio.bib",
   "cite_by": "apalike",
   "current_citInitial": 1,
   "eqLabelWithNumbers": true,
   "eqNumInitial": 1,
   "hotkeys": {
    "equation": "Ctrl-E",
    "itemize": "Ctrl-I"
   },
   "labels_anchors": false,
   "latex_user_defs": false,
   "report_style_numbering": false,
   "user_envs_cfg": false
  },
  "toc": {
   "base_numbering": 1,
   "nav_menu": {},
   "number_sections": true,
   "sideBar": true,
   "skip_h1_title": false,
   "title_cell": "Table of Contents",
   "title_sidebar": "Contents",
   "toc_cell": false,
   "toc_position": {},
   "toc_section_display": true,
   "toc_window_display": false
  }
 },
 "nbformat": 4,
 "nbformat_minor": 2
}
